{
 "cells": [
  {
   "cell_type": "code",
   "execution_count": 1,
   "id": "d5566bb4",
   "metadata": {},
   "outputs": [],
   "source": [
    "import numpy as np"
   ]
  },
  {
   "cell_type": "code",
   "execution_count": 4,
   "id": "d052ec50",
   "metadata": {},
   "outputs": [],
   "source": [
    "class bond():\n",
    "     def __init__(self, molecule1, molecule2,arm1,arm2):\n",
    "        self.molecule1 = molecule1\n",
    "        self.molecule2 = molecule2\n",
    "        self.arm1 = arm1\n",
    "        self.arm2 = arm2\n",
    "        self.time=0\n",
    "        \n"
   ]
  },
  {
   "cell_type": "code",
   "execution_count": 64,
   "id": "eb9d2ec3",
   "metadata": {},
   "outputs": [],
   "source": [
    "#read bondlist file\n",
    "def read_bond(filename):\n",
    "    bond_traj=[]\n",
    "    bond_array_one=np.empty([0,5])\n",
    "    file1 = open(filename, 'r')\n",
    "    Lines = file1.readlines()\n",
    "    \n",
    "    for line in Lines:\n",
    "        if line==\"TIMESTEP\\n\":\n",
    "            bond_traj.append(bond_array_one)\n",
    "            bond_array_one=np.empty([0,5])\n",
    "            \n",
    "        if len(line.split())==4 and line.split()[0]!='molecule1':\n",
    "            bond_array_one=np.concatenate((bond_array_one,np.append(np.array(line.split(),dtype=int),0).reshape(1,5)),axis=0)\n",
    "    return bond_traj"
   ]
  },
  {
   "cell_type": "code",
   "execution_count": 114,
   "id": "63bfd023",
   "metadata": {},
   "outputs": [],
   "source": [
    "bond_traj=read_bond(\"Bondlist.txt\")"
   ]
  },
  {
   "cell_type": "code",
   "execution_count": 112,
   "id": "052a47e8",
   "metadata": {},
   "outputs": [
    {
     "data": {
      "text/plain": [
       "100"
      ]
     },
     "execution_count": 112,
     "metadata": {},
     "output_type": "execute_result"
    }
   ],
   "source": [
    "len(bond_traj)"
   ]
  },
  {
   "cell_type": "code",
   "execution_count": 109,
   "id": "302c1ebe",
   "metadata": {},
   "outputs": [
    {
     "name": "stdout",
     "output_type": "stream",
     "text": [
      "break11\n",
      "break11\n",
      "break16\n",
      "break16\n",
      "break37\n",
      "break37\n",
      "break45\n",
      "break45\n",
      "break86\n",
      "break86\n",
      "break91\n",
      "break91\n"
     ]
    }
   ],
   "source": [
    "for i in range(0,len(bond_traj)-1):\n",
    "    conf1=bond_traj[i][:,0:4]\n",
    "    conf2=bond_traj[i+1][:,0:4]\n",
    "    for j in range(0,conf1.shape[0]):\n",
    "        if np.where((conf2==tuple(conf1[j])).all(axis=1))[0].shape[0]==0:\n",
    "            print(\"break%d\"%(i))"
   ]
  },
  {
   "cell_type": "code",
   "execution_count": 97,
   "id": "cf519766",
   "metadata": {},
   "outputs": [],
   "source": [
    "conf1=bond_traj[1][:,0:4]\n",
    "conf2=bond_traj[2][:,0:4]\n"
   ]
  },
  {
   "cell_type": "code",
   "execution_count": 98,
   "id": "6f950b2a",
   "metadata": {},
   "outputs": [
    {
     "data": {
      "text/plain": [
       "(12.0, 17.0, 3.0, 5.0)"
      ]
     },
     "execution_count": 98,
     "metadata": {},
     "output_type": "execute_result"
    }
   ],
   "source": [
    "tuple(conf1[1])"
   ]
  },
  {
   "cell_type": "code",
   "execution_count": 100,
   "id": "bc5877d4",
   "metadata": {},
   "outputs": [
    {
     "ename": "AttributeError",
     "evalue": "'tuple' object has no attribute 'all'",
     "output_type": "error",
     "traceback": [
      "\u001b[0;31m---------------------------------------------------------------------------\u001b[0m",
      "\u001b[0;31mAttributeError\u001b[0m                            Traceback (most recent call last)",
      "Cell \u001b[0;32mIn[100], line 1\u001b[0m\n\u001b[0;32m----> 1\u001b[0m np\u001b[38;5;241m.\u001b[39mwhere((conf2\u001b[38;5;241m==\u001b[39m\u001b[38;5;28;43mtuple\u001b[39;49m\u001b[43m(\u001b[49m\u001b[43mconf1\u001b[49m\u001b[43m[\u001b[49m\u001b[38;5;241;43m1\u001b[39;49m\u001b[43m]\u001b[49m\u001b[43m)\u001b[49m\u001b[38;5;241;43m.\u001b[39;49m\u001b[43mall\u001b[49m(axis\u001b[38;5;241m=\u001b[39m\u001b[38;5;241m1\u001b[39m)))[\u001b[38;5;241m0\u001b[39m]\u001b[38;5;241m.\u001b[39mshape[\u001b[38;5;241m0\u001b[39m]\n",
      "\u001b[0;31mAttributeError\u001b[0m: 'tuple' object has no attribute 'all'"
     ]
    }
   ],
   "source": [
    "np.where((conf2==tuple(conf1[1]).all(axis=1)))[0].shape[0]"
   ]
  },
  {
   "cell_type": "code",
   "execution_count": 78,
   "id": "a550ede5",
   "metadata": {},
   "outputs": [
    {
     "data": {
      "text/plain": [
       "True"
      ]
     },
     "execution_count": 78,
     "metadata": {},
     "output_type": "execute_result"
    }
   ],
   "source": [
    "np.any([1,1,1],where=2)"
   ]
  },
  {
   "cell_type": "code",
   "execution_count": 91,
   "id": "5ae16a9b",
   "metadata": {},
   "outputs": [
    {
     "data": {
      "text/plain": [
       "True"
      ]
     },
     "execution_count": 91,
     "metadata": {},
     "output_type": "execute_result"
    }
   ],
   "source": [
    "np.where((bond_traj[1][:,0:4]==(9,37,4,4)).all(axis=1))[0].shape[0]==0"
   ]
  },
  {
   "cell_type": "code",
   "execution_count": 82,
   "id": "349ea012",
   "metadata": {},
   "outputs": [],
   "source": [
    "vals = np.array([[0, 0],\n",
    "                 [1, 0],\n",
    "                 [2, 0],\n",
    "                 [0, 1],\n",
    "                 [1, 1],\n",
    "                 [2, 1],\n",
    "                 [0, 2],\n",
    "                 [1, 2],\n",
    "                 [2, 2],\n",
    "                 [0, 3],\n",
    "                 [1, 3],\n",
    "                 [2, 3],\n",
    "                 [0, 0],\n",
    "                 [1, 0],\n",
    "                 [2, 0],\n",
    "                 [0, 1],\n",
    "                 [1, 1],\n",
    "                 [2, 1],\n",
    "                 [0, 2],\n",
    "                 [1, 2],\n",
    "                 [2, 2],\n",
    "                 [0, 3],\n",
    "                 [1, 3],\n",
    "                 [2, 3]])"
   ]
  },
  {
   "cell_type": "code",
   "execution_count": 83,
   "id": "499a0264",
   "metadata": {},
   "outputs": [
    {
     "data": {
      "text/plain": [
       "(array([ 3, 15]),)"
      ]
     },
     "execution_count": 83,
     "metadata": {},
     "output_type": "execute_result"
    }
   ],
   "source": [
    "np.where((vals == (0, 1)).all(axis=1))"
   ]
  },
  {
   "cell_type": "code",
   "execution_count": 115,
   "id": "3b118ec1",
   "metadata": {},
   "outputs": [
    {
     "data": {
      "text/plain": [
       "(138, 5)"
      ]
     },
     "execution_count": 115,
     "metadata": {},
     "output_type": "execute_result"
    }
   ],
   "source": [
    "bond_traj[-1].shape"
   ]
  },
  {
   "cell_type": "code",
   "execution_count": null,
   "id": "04b47db9",
   "metadata": {},
   "outputs": [],
   "source": []
  }
 ],
 "metadata": {
  "kernelspec": {
   "display_name": "Python 3 (ipykernel)",
   "language": "python",
   "name": "python3"
  },
  "language_info": {
   "codemirror_mode": {
    "name": "ipython",
    "version": 3
   },
   "file_extension": ".py",
   "mimetype": "text/x-python",
   "name": "python",
   "nbconvert_exporter": "python",
   "pygments_lexer": "ipython3",
   "version": "3.11.3"
  }
 },
 "nbformat": 4,
 "nbformat_minor": 5
}
